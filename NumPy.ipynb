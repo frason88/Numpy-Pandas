{
  "nbformat": 4,
  "nbformat_minor": 0,
  "metadata": {
    "colab": {
      "name": "Np-Exe-1.ipynb",
      "provenance": [],
      "authorship_tag": "ABX9TyOWnDzNNl6907v2lumGYlri"
    },
    "kernelspec": {
      "name": "python3",
      "display_name": "Python 3"
    }
  },
  "cells": [
    {
      "cell_type": "markdown",
      "metadata": {
        "id": "PhwECpSKOBWu"
      },
      "source": [
        "# Numpy Operations\r\n",
        "## Practice set by Frason\r\n",
        "---\r\n",
        "\r\n"
      ]
    },
    {
      "cell_type": "markdown",
      "metadata": {
        "id": "PcD6GFLYOaNk"
      },
      "source": [
        "## Vectors and Matrices"
      ]
    },
    {
      "cell_type": "code",
      "metadata": {
        "colab": {
          "base_uri": "https://localhost:8080/"
        },
        "id": "9rbV5HkyN9mn",
        "outputId": "f76a2a90-b3d4-4be3-d7ed-2029dda9f29b"
      },
      "source": [
        "import numpy as np # To perform a number of mathematical operations on arrays\r\n",
        "my_list = [1,2,3,4,5]\r\n",
        "arr1 = np.array(my_list)\r\n",
        "print(\"Type or class of this object: \",type(arr1))\r\n",
        "print(\"Here is the vector\\n-------------------\\n\",arr1)"
      ],
      "execution_count": null,
      "outputs": [
        {
          "output_type": "stream",
          "text": [
            "Type or class of this object:  <class 'numpy.ndarray'>\n",
            "Here is the vector\n",
            "-------------------\n",
            " [1 2 3 4 5]\n"
          ],
          "name": "stdout"
        }
      ]
    },
    {
      "cell_type": "code",
      "metadata": {
        "colab": {
          "base_uri": "https://localhost:8080/"
        },
        "id": "5UjSAcDqPR98",
        "outputId": "ff7294c8-5427-4730-8264-62cbc3e838c7"
      },
      "source": [
        "my_matrix = [[1,2,3],[4,5,6],[7,8,9]]\r\n",
        "matrix = np.array(my_matrix)\r\n",
        "print(\"Type or class of this object: \",type(matrix))\r\n",
        "print(\"Here is the ,matrix \\n----------\\n\",matrix,\"\\n------------\")\r\n",
        "print(\"Dimension of the matrix: \",matrix.ndim,sep='') #ndim gives the dimension which is 2 for matrix and 1 for a vector. sep is for sepration\r\n",
        "print(\"Shape of the matrix: \",matrix.shape,sep='') #shape gives the number of element along each axes (dimension)\r\n",
        "print(\"Data type of the matrix: \",matrix.dtype,sep='')  #dtype gives the data type contained in the array\r\n",
        "\r\n",
        "my_matrix = [[1.1,2,3],[4,5.2,6],[7,8.3,9]]\r\n",
        "matrix = np.array(my_matrix)\r\n",
        "print(\"Data type of the modified matrix: \", matrix.dtype,sep='') #dtype gives the data type contained in the array\r\n",
        "print(\"\\n\\nEven tuples can be converted to ndarrays...\")\r\n",
        "\r\n",
        "A = np.array([(1.5,2,3), (4,5,6)])\r\n",
        "print(\"We write A = np.array([(1.5,2,3), (4,5,6)])\")\r\n",
        "print(\"Matrix made from tuples, not lists\\n---------------------------------------\")\r\n",
        "print(A)"
      ],
      "execution_count": null,
      "outputs": [
        {
          "output_type": "stream",
          "text": [
            "Type or class of this object:  <class 'numpy.ndarray'>\n",
            "Here is the ,matrix \n",
            "----------\n",
            " [[1 2 3]\n",
            " [4 5 6]\n",
            " [7 8 9]] \n",
            "------------\n",
            "Dimension of the matrix: 2\n",
            "Shape of the matrix: (3, 3)\n",
            "Data type of the matrix: int64\n",
            "Data type of the modified matrix: float64\n",
            "\n",
            "\n",
            "Even tuples can be converted to ndarrays...\n",
            "We write a = np.array([(1.5,2,3), (4,5,6)])\n",
            "Matrix made from tuples, not lists\n",
            "---------------------------------------\n",
            "[[1.5 2.  3. ]\n",
            " [4.  5.  6. ]]\n"
          ],
          "name": "stdout"
        }
      ]
    },
    {
      "cell_type": "markdown",
      "metadata": {
        "id": "vewTu8wpRYEf"
      },
      "source": [
        "## 'arange' and 'linspace'"
      ]
    },
    {
      "cell_type": "code",
      "metadata": {
        "id": "AUAlT7tiPSbu"
      },
      "source": [
        "print(\"A series of numbers:\",np.arange(5,16)) # A series of numbers from low to high"
      ],
      "execution_count": null,
      "outputs": []
    },
    {
      "cell_type": "code",
      "metadata": {
        "id": "Ya70KR0yRmd2"
      },
      "source": [
        "print(\"Numbers spaced apart by 2:\",np.arange(0,11,2)) # Numbers spaced apart by 2"
      ],
      "execution_count": null,
      "outputs": []
    },
    {
      "cell_type": "code",
      "metadata": {
        "id": "0v8cBnUERrjW"
      },
      "source": [
        "print(\"Numbers spaced apart by float:\",np.arange(0,11,2.5)) # Numbers spaced apart by 2.5"
      ],
      "execution_count": null,
      "outputs": []
    },
    {
      "cell_type": "code",
      "metadata": {
        "colab": {
          "base_uri": "https://localhost:8080/"
        },
        "id": "L13dYb-FRvEr",
        "outputId": "01933085-4e3f-4e96-cf8e-ba859dc18be6"
      },
      "source": [
        "print(\"Every 5th number from 100 in reverse order\\n\",np.arange(100,-1,-5))"
      ],
      "execution_count": null,
      "outputs": [
        {
          "output_type": "stream",
          "text": [
            "Every 5th number from 100 in reverse order\n",
            " [100  95  90  85  80  75  70  65  60  55  50  45  40  35  30  25  20  15\n",
            "  10   5   0]\n"
          ],
          "name": "stdout"
        }
      ]
    },
    {
      "cell_type": "markdown",
      "metadata": {
        "id": "AJt8UPwqSDaE"
      },
      "source": [
        "## Zeroes, Ones, empty, and Identity matrix"
      ]
    },
    {
      "cell_type": "code",
      "metadata": {
        "colab": {
          "base_uri": "https://localhost:8080/"
        },
        "id": "oZt4qFO-R7w5",
        "outputId": "ba444cd0-685f-4520-9e2c-574bbdb4b5b5"
      },
      "source": [
        "print(\"Vectors of zeroes \\n----------------\")\r\n",
        "print(np.zeros(5))\r\n",
        "print('matrix of Zeroes\\n----------------------')\r\n",
        "print(np.zeros((3,4))) #3*4 Matrix"
      ],
      "execution_count": null,
      "outputs": [
        {
          "output_type": "stream",
          "text": [
            "Vectors of zeroes \n",
            "----------------\n",
            "[0. 0. 0. 0. 0.]\n",
            "matrix of Zeroes\n",
            "----------------------\n",
            "[[0. 0. 0. 0.]\n",
            " [0. 0. 0. 0.]\n",
            " [0. 0. 0. 0.]]\n"
          ],
          "name": "stdout"
        }
      ]
    },
    {
      "cell_type": "code",
      "metadata": {
        "colab": {
          "base_uri": "https://localhost:8080/"
        },
        "id": "oO-7aHrMS01-",
        "outputId": "0cf15459-0661-46f5-f72f-f1ea7f26e420"
      },
      "source": [
        "\r\n",
        "print(\"Vector of ones\\n---------------------\")\r\n",
        "print(np.ones(5))\r\n",
        "print(\"Matrix of ones\\n---------------------\")\r\n",
        "print(np.ones((5,2))) # Matrix dimension specified by Tuples\r\n",
        "print(\"Matrix of 5's\\n---------------------\")\r\n",
        "print(5*np.ones((3,5)))"
      ],
      "execution_count": null,
      "outputs": [
        {
          "output_type": "stream",
          "text": [
            "Vector of ones\n",
            "---------------------\n",
            "[1. 1. 1. 1. 1.]\n",
            "Matrix of ones\n",
            "---------------------\n",
            "[[1. 1.]\n",
            " [1. 1.]\n",
            " [1. 1.]\n",
            " [1. 1.]\n",
            " [1. 1.]]\n",
            "Matrix of 5's\n",
            "---------------------\n",
            "[[5. 5. 5. 5. 5.]\n",
            " [5. 5. 5. 5. 5.]\n",
            " [5. 5. 5. 5. 5.]]\n"
          ],
          "name": "stdout"
        }
      ]
    },
    {
      "cell_type": "code",
      "metadata": {
        "colab": {
          "base_uri": "https://localhost:8080/"
        },
        "id": "Ml_eSJEzS0dz",
        "outputId": "39681478-f16a-414f-86df-fca89a231685"
      },
      "source": [
        "print(\"Empty matrix\\n-------------\\n\", np.empty((3,5)))"
      ],
      "execution_count": null,
      "outputs": [
        {
          "output_type": "stream",
          "text": [
            "Empty matrix\n",
            "-------------\n",
            " [[5. 5. 5. 5. 5.]\n",
            " [5. 5. 5. 5. 5.]\n",
            " [5. 5. 5. 5. 5.]]\n"
          ],
          "name": "stdout"
        }
      ]
    },
    {
      "cell_type": "code",
      "metadata": {
        "colab": {
          "base_uri": "https://localhost:8080/"
        },
        "id": "K9FKdPGqTU1V",
        "outputId": "d2276b8d-f875-4179-d889-93f62f6e2f8d"
      },
      "source": [
        "matrix1 = np.eye(3) \r\n",
        "print(\"Identity matrix of dimension\", matrix1.shape)\r\n",
        "print(matrix1)"
      ],
      "execution_count": null,
      "outputs": [
        {
          "output_type": "stream",
          "text": [
            "Identity matrix of dimension (3, 3)\n",
            "[[1. 0. 0.]\n",
            " [0. 1. 0.]\n",
            " [0. 0. 1.]]\n"
          ],
          "name": "stdout"
        }
      ]
    },
    {
      "cell_type": "markdown",
      "metadata": {
        "id": "ll5xwl0FTkEd"
      },
      "source": [
        "## Random number generation"
      ]
    },
    {
      "cell_type": "code",
      "metadata": {
        "colab": {
          "base_uri": "https://localhost:8080/"
        },
        "id": "oLzgB0rOTiRl",
        "outputId": "520ce899-1071-4a57-d71a-f86f11383ec2"
      },
      "source": [
        "print(np.random.rand(2,3)) # 2 by 3 matrix with random numbers ranging from 0 to 1, Note no Tuple is necessary"
      ],
      "execution_count": null,
      "outputs": [
        {
          "output_type": "stream",
          "text": [
            "[[0.9424943  0.54033384 0.14475885]\n",
            " [0.11430145 0.47080054 0.35095515]]\n"
          ],
          "name": "stdout"
        }
      ]
    },
    {
      "cell_type": "code",
      "metadata": {
        "colab": {
          "base_uri": "https://localhost:8080/"
        },
        "id": "7T9da5hLT2Bd",
        "outputId": "1900ef6e-5e3b-4bcb-f62c-b885eab1de6b"
      },
      "source": [
        "print(\"Numbers from normal distribution with zero mean and standard deviation 1 i.e standard normal\")\r\n",
        "print(np.random.randn(3,3))\r\n"
      ],
      "execution_count": null,
      "outputs": [
        {
          "output_type": "stream",
          "text": [
            "Numbers from normal distribution with zero mean and standard deviation 1 i.e standard normal\n",
            "[[ 0.74876774 -1.3215578   1.32573764]\n",
            " [-1.65144096 -0.59330022 -0.62542072]\n",
            " [ 0.40848906  1.39545857 -0.65722726]]\n"
          ],
          "name": "stdout"
        }
      ]
    },
    {
      "cell_type": "code",
      "metadata": {
        "colab": {
          "base_uri": "https://localhost:8080/"
        },
        "id": "eM3GtsjlUeKA",
        "outputId": "7bd3c8f7-cf3c-45c4-d5c8-490ee242f8ba"
      },
      "source": [
        "print(\"Random integer vector:\",np.random.randint(1,100,10)) #randint (low, high, # of samples to be drawn)\r\n",
        "print (\"\\nRandom integer matrix\")\r\n",
        "print(np.random.randint(1,100,(4,4))) #randint (low, high, # of samples to be drawn in a tuple to form a matrix)\r\n",
        "print(\"\\n20 samples drawn from a dice throw:\",np.random.randint(1,7,20)) # 20 samples drawn from a dice throw"
      ],
      "execution_count": null,
      "outputs": [
        {
          "output_type": "stream",
          "text": [
            "Random integer vector: [83 35 24 28 51 54 73  3  7 40]\n",
            "\n",
            "Random integer matrix\n",
            "[[30 82 34 63]\n",
            " [91 39 75 97]\n",
            " [62 21 30 67]\n",
            " [11 40 49 90]]\n",
            "\n",
            "20 samples drawn from a dice throw: [3 2 4 1 1 4 3 5 1 2 1 6 3 6 5 2 4 1 2 3]\n"
          ],
          "name": "stdout"
        }
      ]
    },
    {
      "cell_type": "markdown",
      "metadata": {
        "id": "ON5ZDEjpUrC1"
      },
      "source": [
        "## Reshaping, Min, Max and Sort"
      ]
    },
    {
      "cell_type": "code",
      "metadata": {
        "colab": {
          "base_uri": "https://localhost:8080/"
        },
        "id": "swNxDIiRUpep",
        "outputId": "34df573d-7741-49e1-ef61-ecf7f24e56d8"
      },
      "source": [
        "from numpy.random import randint as ri\r\n",
        "a = ri(1,100,30)\r\n",
        "b = a.reshape(2,3,5)\r\n",
        "c = a.reshape(6,5)\r\n",
        "print (\"Shape of a:\", a.shape)\r\n",
        "print (\"Shape of b:\", b.shape)\r\n",
        "print (\"Shape of c:\", c.shape)\r\n",
        "print(\"\\na looks like\\n\",'-'*20,\"\\n\",a,\"\\n\",'-'*20)\r\n",
        "print(\"\\nb looks like\\n\",'-'*20,\"\\n\",b,\"\\n\",'-'*20)\r\n",
        "print(\"\\nc looks like\\n\",'-'*20,\"\\n\",c,\"\\n\",'-'*20)\r\n",
        "\r\n",
        "A = ri(1,100,10) # Vector of random interegrs\r\n",
        "print(\"\\nVector of random integers\\n\",'-'*50,\"\\n\",A)\r\n",
        "print(\"\\nHere is the sorted vector\\n\",'-'*50,\"\\n\",np.sort(A, kind='mergesort'))\r\n",
        "\r\n",
        "M = ri(1,100,25).reshape(5,5) # Matrix of random interegrs\r\n",
        "print(\"\\n5x5 Matrix of random integers\\n\",'-'*50,\"\\n\",M)\r\n",
        "print(\"\\nHere is the sorted matrix along each row\\n\",'-'*50,\"\\n\",np.sort(M, kind='mergesort')) # Default axis =1\r\n",
        "print(\"\\nHere is the sorted matrix along each column\\n\",'-'*50,\"\\n\",np.sort(M, axis=0, kind='mergesort'))"
      ],
      "execution_count": null,
      "outputs": [
        {
          "output_type": "stream",
          "text": [
            "Shape of a: (30,)\n",
            "Shape of b: (2, 3, 5)\n",
            "Shape of c: (6, 5)\n",
            "\n",
            "a looks like\n",
            " -------------------- \n",
            " [64 26 99 92 48 59 11 13 42 88 92 31 86 10 31 45 63 82 28  5 38 25 13 87\n",
            " 72 24 37 52 61 85] \n",
            " --------------------\n",
            "\n",
            "b looks like\n",
            " -------------------- \n",
            " [[[64 26 99 92 48]\n",
            "  [59 11 13 42 88]\n",
            "  [92 31 86 10 31]]\n",
            "\n",
            " [[45 63 82 28  5]\n",
            "  [38 25 13 87 72]\n",
            "  [24 37 52 61 85]]] \n",
            " --------------------\n",
            "\n",
            "c looks like\n",
            " -------------------- \n",
            " [[64 26 99 92 48]\n",
            " [59 11 13 42 88]\n",
            " [92 31 86 10 31]\n",
            " [45 63 82 28  5]\n",
            " [38 25 13 87 72]\n",
            " [24 37 52 61 85]] \n",
            " --------------------\n",
            "\n",
            "Vector of random integers\n",
            " -------------------------------------------------- \n",
            " [60 68 58 71 11 44 64 85 37 29]\n",
            "\n",
            "Here is the sorted vector\n",
            " -------------------------------------------------- \n",
            " [11 29 37 44 58 60 64 68 71 85]\n",
            "\n",
            "5x5 Matrix of random integers\n",
            " -------------------------------------------------- \n",
            " [[50 37 30  8 59]\n",
            " [71 49 76 66 58]\n",
            " [ 8  7 31 91  1]\n",
            " [24 58  8  4 73]\n",
            " [87 43 73 54 28]]\n",
            "\n",
            "Here is the sorted matrix along each row\n",
            " -------------------------------------------------- \n",
            " [[ 8 30 37 50 59]\n",
            " [49 58 66 71 76]\n",
            " [ 1  7  8 31 91]\n",
            " [ 4  8 24 58 73]\n",
            " [28 43 54 73 87]]\n",
            "\n",
            "Here is the sorted matrix along each column\n",
            " -------------------------------------------------- \n",
            " [[ 8  7  8  4  1]\n",
            " [24 37 30  8 28]\n",
            " [50 43 31 54 58]\n",
            " [71 49 73 66 59]\n",
            " [87 58 76 91 73]]\n"
          ],
          "name": "stdout"
        }
      ]
    },
    {
      "cell_type": "code",
      "metadata": {
        "colab": {
          "base_uri": "https://localhost:8080/"
        },
        "id": "AYf1WKQEVXJ_",
        "outputId": "a7244047-77cb-4318-ce09-6001e6015560"
      },
      "source": [
        "print(\"Max of a:\", a.max())\r\n",
        "print(\"Max of b:\", b.max())\r\n",
        "print(\"Max of a location:\", a.argmax())\r\n",
        "print(\"Max of b location:\", b.argmax())\r\n",
        "print(\"Max of c location:\", b.argmax())"
      ],
      "execution_count": null,
      "outputs": [
        {
          "output_type": "stream",
          "text": [
            "Max of a: 99\n",
            "Max of b: 99\n",
            "Max of a location: 2\n",
            "Max of b location: 2\n",
            "Max of c location: 2\n"
          ],
          "name": "stdout"
        }
      ]
    },
    {
      "cell_type": "markdown",
      "metadata": {
        "id": "SW8ZNDZoVdBi"
      },
      "source": [
        "## Indexing and Slicing"
      ]
    },
    {
      "cell_type": "code",
      "metadata": {
        "colab": {
          "base_uri": "https://localhost:8080/"
        },
        "id": "5fb7v4N-VcOa",
        "outputId": "22dcdc78-5002-415b-bbd7-155301c8cf23"
      },
      "source": [
        "arr = np.arange(0,11)\r\n",
        "print(\"Array:\",arr)\r\n",
        "print(\"Element at 7th index is:\", arr[7])\r\n",
        "print(\"Elements from 3rd to 5th index are:\", arr[3:6])\r\n",
        "print(\"Elements up to 4th index are:\", arr[:4])\r\n",
        "print(\"Elements from last backwards are:\", arr[-1::-1])\r\n",
        "print(\"3 Elements from last backwards are:\", arr[-1:-6:-2])\r\n",
        "\r\n",
        "arr = np.arange(0,21,2)\r\n",
        "print(\"New array:\",arr)\r\n",
        "print(\"Elements at 2nd, 4th, and 9th index are:\", arr[[2,4,9]]) # Pass a list as a index to subset"
      ],
      "execution_count": null,
      "outputs": [
        {
          "output_type": "stream",
          "text": [
            "Array: [ 0  1  2  3  4  5  6  7  8  9 10]\n",
            "Element at 7th index is: 7\n",
            "Elements from 3rd to 5th index are: [3 4 5]\n",
            "Elements up to 4th index are: [0 1 2 3]\n",
            "Elements from last backwards are: [10  9  8  7  6  5  4  3  2  1  0]\n",
            "3 Elements from last backwards are: [10  8  6]\n",
            "New array: [ 0  2  4  6  8 10 12 14 16 18 20]\n",
            "Elements at 2nd, 4th, and 9th index are: [ 4  8 18]\n"
          ],
          "name": "stdout"
        }
      ]
    },
    {
      "cell_type": "code",
      "metadata": {
        "colab": {
          "base_uri": "https://localhost:8080/"
        },
        "id": "eRJBLDl1Vuh_",
        "outputId": "91bb8bae-1c0d-4779-e4aa-f11e44d62cf1"
      },
      "source": [
        "from numpy.random import randint as ri\r\n",
        "\r\n",
        "mat = np.array(ri(10,100,15)).reshape(3,5)\r\n",
        "print(\"Matrix of random 2-digit numbers\\n--------------------------------\\n\",mat)\r\n",
        "\r\n",
        "print(\"\\nDouble bracket indexing\\n------------------------\")\r\n",
        "print(\"Element in row index 1 and column index 2:\", mat[1][2])\r\n",
        "\r\n",
        "print(\"\\nSingle bracket with comma indexing\\n----------------------------------\")\r\n",
        "print(\"Element in row index 1 and column index 2:\", mat[1,2])\r\n",
        "print(\"\\nRow or column extract\\n----------------------\")\r\n",
        "\r\n",
        "print(\"Entire row at index 2:\", mat[2])\r\n",
        "print(\"Entire column at index 3:\", mat[:,3])\r\n",
        "\r\n",
        "print(\"\\nSubsetting sub-matrices\\n--------------------------\")\r\n",
        "print(\"Matrix with row indices 1 and 2 and column indices 3 and 4\\n\", mat[1:3,3:5])\r\n",
        "print(\"Matrix with row indices 0 and 1 and column indices 1 and 3\\n\", mat[0:2,[1,3]])"
      ],
      "execution_count": null,
      "outputs": [
        {
          "output_type": "stream",
          "text": [
            "Matrix of random 2-digit numbers\n",
            "--------------------------------\n",
            " [[14 21 39 41 37]\n",
            " [76 41 79 97 57]\n",
            " [33 82 77 71 21]]\n",
            "\n",
            "Double bracket indexing\n",
            "------------------------\n",
            "Element in row index 1 and column index 2: 79\n",
            "\n",
            "Single bracket with comma indexing\n",
            "----------------------------------\n",
            "Element in row index 1 and column index 2: 79\n",
            "\n",
            "Row or column extract\n",
            "----------------------\n",
            "Entire row at index 2: [33 82 77 71 21]\n",
            "Entire column at index 3: [41 97 71]\n",
            "\n",
            "Subsetting sub-matrices\n",
            "--------------------------\n",
            "Matrix with row indices 1 and 2 and column indices 3 and 4\n",
            " [[97 57]\n",
            " [71 21]]\n",
            "Matrix with row indices 0 and 1 and column indices 1 and 3\n",
            " [[21 41]\n",
            " [41 97]]\n"
          ],
          "name": "stdout"
        }
      ]
    },
    {
      "cell_type": "code",
      "metadata": {
        "colab": {
          "base_uri": "https://localhost:8080/"
        },
        "id": "zIihEwnYWOuJ",
        "outputId": "c7bd8219-51bb-4e4e-aed5-42c4c50f22e0"
      },
      "source": [
        "# create a rank 1 ndarray with 3 values\r\n",
        "add_rows = np.array([1, 0, 2])\r\n",
        "print(add_rows)"
      ],
      "execution_count": null,
      "outputs": [
        {
          "output_type": "stream",
          "text": [
            "[1 0 2]\n"
          ],
          "name": "stdout"
        }
      ]
    },
    {
      "cell_type": "markdown",
      "metadata": {
        "id": "i5etyYmWWa7y"
      },
      "source": [
        "## NumPy basic statistics on array"
      ]
    },
    {
      "cell_type": "code",
      "metadata": {
        "colab": {
          "base_uri": "https://localhost:8080/"
        },
        "id": "-wen9mGHWZH6",
        "outputId": "d44c67a5-05ff-4542-fab0-d7877b5119c2"
      },
      "source": [
        "mat1 = np.array(ri(1,10,9)).reshape(3,3)\r\n",
        "mat2 = np.array(ri(1,10,9)).reshape(3,3)\r\n",
        "print(\"\\n1st Matrix of random single-digit numbers\\n\",\"-\"*50,\"\\n\",mat1)\r\n",
        "print(\"\\n2nd Matrix of random single-digit numbers\\n\",\"-\"*50,\"\\n\",mat2)\r\n",
        "\r\n",
        "print(\"\\nSum of all numbers in 1st matrix\\n\",\"-\"*50,\"\\n\",np.sum(mat1))\r\n",
        "print(\"\\nSum of all numbers in columns of 1st matrix\\n\",\"-\"*50,\"\\n\",np.sum(mat1,axis=0))\r\n",
        "print(\"\\nSum of all numbers in rows of 1st matrix\\n\",\"-\"*50,\"\\n\",np.sum(mat1,axis=1))\r\n",
        "print(\"\\nProduct of all numbers in rows of 1st matrix\\n\",\"-\"*50,\"\\n\",np.prod(mat1,axis=1))\r\n",
        "print(\"\\nProduct of all numbers in columns of 2nd matrix\\n\",\"-\"*50,\"\\n\",np.prod(mat2,axis=0))\r\n",
        "print(\"\\nMean of all numbers in 1st matrix\\n\",\"-\"*50,\"\\n\",np.mean(mat1))\r\n",
        "print(\"\\nStandard deviation of all numbers in 1st matrix\\n\",\"-\"*50,\"\\n\",np.std(mat1))\r\n",
        "\r\n",
        "mat1 = np.array(ri(1,100,9)).reshape(3,3)\r\n",
        "print(\"\\nModified matrix of random numbers from 1 to 99\\n\",\"-\"*50,\"\\n\",mat1)\r\n",
        "print(\"\\nStandard deviation of all numbers in the modified matrix, a larger number\\n\",\"-\"*80,\"\\n\",np.std(mat1))\r\n",
        "print(\"\\nVariance of all numbers in the modified matrix, a larger number\\n\",\"-\"*80,\"\\n\",np.var(mat1))\r\n",
        "print(\"\\nMedian of all numbers in the modified matrix\\n\",\"-\"*60,\"\\n\",np.median(mat1))\r\n",
        "\r\n",
        "mat2 = np.array(ri(1,100,50)).reshape(10,5)\r\n",
        "print(\"\\nModified matrix of 50 random numbers from 1 to 99\\n\",\"-\"*50,\"\\n\",mat2)\r\n",
        "print(\"\\nStandard deviation along the columns in the modified matrix\\n\",\"-\"*60,\"\\n\",np.std(mat2,axis=0))\r\n",
        "\r\n",
        "mat1 = np.array(ri(1,100,20)).reshape(4,5)\r\n",
        "print(\"\\nModified matrix of random numbers from 1 to 49\\n\",\"-\"*50,\"\\n\",mat1)\r\n",
        "print(\"\\nFlattened and sorted matrix (as vector)\\n\",\"-\"*50,\"\\n\",np.sort(mat1.reshape(1,20)))\r\n",
        "print(\"\\n50th percentile of all numbers in the modified matrix\\n\",\"-\"*60,\"\\n\",np.percentile(mat1,50))\r\n",
        "print(\"\\n90th percentile of all numbers in the modified matrix\\n\",\"-\"*60,\"\\n\",np.percentile(mat1,90))"
      ],
      "execution_count": null,
      "outputs": [
        {
          "output_type": "stream",
          "text": [
            "\n",
            "1st Matrix of random single-digit numbers\n",
            " -------------------------------------------------- \n",
            " [[5 2 4]\n",
            " [2 6 6]\n",
            " [8 6 5]]\n",
            "\n",
            "2nd Matrix of random single-digit numbers\n",
            " -------------------------------------------------- \n",
            " [[2 9 4]\n",
            " [3 8 4]\n",
            " [3 6 9]]\n",
            "\n",
            "Sum of all numbers in 1st matrix\n",
            " -------------------------------------------------- \n",
            " 44\n",
            "\n",
            "Sum of all numbers in columns of 1st matrix\n",
            " -------------------------------------------------- \n",
            " [15 14 15]\n",
            "\n",
            "Sum of all numbers in rows of 1st matrix\n",
            " -------------------------------------------------- \n",
            " [11 14 19]\n",
            "\n",
            "Product of all numbers in rows of 1st matrix\n",
            " -------------------------------------------------- \n",
            " [ 40  72 240]\n",
            "\n",
            "Product of all numbers in columns of 2nd matrix\n",
            " -------------------------------------------------- \n",
            " [ 18 432 144]\n",
            "\n",
            "Mean of all numbers in 1st matrix\n",
            " -------------------------------------------------- \n",
            " 4.888888888888889\n",
            "\n",
            "Standard deviation of all numbers in 1st matrix\n",
            " -------------------------------------------------- \n",
            " 1.8525924445036739\n",
            "\n",
            "Modified matrix of random numbers from 1 to 99\n",
            " -------------------------------------------------- \n",
            " [[77 43 82]\n",
            " [92 51 51]\n",
            " [72 23 46]]\n",
            "\n",
            "Standard deviation of all numbers in the modified matrix, a larger number\n",
            " -------------------------------------------------------------------------------- \n",
            " 20.96558025802185\n",
            "\n",
            "Variance of all numbers in the modified matrix, a larger number\n",
            " -------------------------------------------------------------------------------- \n",
            " 439.5555555555555\n",
            "\n",
            "Median of all numbers in the modified matrix\n",
            " ------------------------------------------------------------ \n",
            " 51.0\n",
            "\n",
            "Modified matrix of 50 random numbers from 1 to 99\n",
            " -------------------------------------------------- \n",
            " [[56 49 81 55 75]\n",
            " [69 84 47 29 53]\n",
            " [13 40 66 51 86]\n",
            " [33 78 52 11 93]\n",
            " [50 47 41 78 80]\n",
            " [25 40 53 62 74]\n",
            " [58 77 55 62 82]\n",
            " [22 99 41  6 32]\n",
            " [60 15  6  2 32]\n",
            " [92 29  6 27 96]]\n",
            "\n",
            "Standard deviation along the columns in the modified matrix\n",
            " ------------------------------------------------------------ \n",
            " [23.11622807 25.70914234 22.42231032 25.41672678 22.18580627]\n",
            "\n",
            "Modified matrix of random numbers from 1 to 49\n",
            " -------------------------------------------------- \n",
            " [[11 98 66 10 40]\n",
            " [24 64 22 32 31]\n",
            " [91 11 57 17 35]\n",
            " [31 30 60  6 65]]\n",
            "\n",
            "Flattened and sorted matrix (as vector)\n",
            " -------------------------------------------------- \n",
            " [[ 6 10 11 11 17 22 24 30 31 31 32 35 40 57 60 64 65 66 91 98]]\n",
            "\n",
            "50th percentile of all numbers in the modified matrix\n",
            " ------------------------------------------------------------ \n",
            " 31.5\n",
            "\n",
            "90th percentile of all numbers in the modified matrix\n",
            " ------------------------------------------------------------ \n",
            " 68.50000000000003\n"
          ],
          "name": "stdout"
        }
      ]
    },
    {
      "cell_type": "markdown",
      "metadata": {
        "id": "Tx8Lt5HwW2nR"
      },
      "source": [
        "## Correlation and covariance"
      ]
    },
    {
      "cell_type": "code",
      "metadata": {
        "colab": {
          "base_uri": "https://localhost:8080/",
          "height": 698
        },
        "id": "C5KOXOehW5LV",
        "outputId": "78803646-db5f-4ecd-b7cd-832271d7ef16"
      },
      "source": [
        "import matplotlib.pyplot as plt\r\n",
        " \r\n",
        "A = ri(1,5,20) # 20 random integeres from a small range (1-10)\r\n",
        "B = 2*A+5*np.random.randn(20) # B is twice that of A plus some random noise\r\n",
        "print(\"\\nB is twice that of A plus some random noise\")\r\n",
        "plt.scatter(A,B) # Scatter plot of B\r\n",
        "plt.title(\"Scatter plot of A vs. B, expect a small positive correlation\")\r\n",
        "plt.show()\r\n",
        "print(np.corrcoef(A,B)) # Correleation coefficient matrix between A and B\r\n",
        "\r\n",
        "A = ri(1,50,20) # 20 random integeres from a larger range (1-50)\r\n",
        "B = 100-2*A+10*np.random.randn(20) # B is 100 minus twice that of A plus some random noise\r\n",
        "print(\"\\nB is 100 minus twice that of A plus some random noise\")\r\n",
        "plt.scatter(A,B) # Scatter plot of B\r\n",
        "plt.title(\"Scatter plot of A vs. B, expect a large negative correlation\")\r\n",
        "plt.show()\r\n",
        "print(\"\")\r\n",
        "print(np.corrcoef(A,B)) # Correleation coefficient matrix between A and B"
      ],
      "execution_count": null,
      "outputs": [
        {
          "output_type": "stream",
          "text": [
            "\n",
            "B is twice that of A plus some random noise\n"
          ],
          "name": "stdout"
        },
        {
          "output_type": "display_data",
          "data": {
            "image/png": "[encoded data removed]",
            "text/plain": [
              "<Figure size 432x288 with 1 Axes>"
            ]
          },
          "metadata": {
            "tags": [],
            "needs_background": "light"
          }
        },
        {
          "output_type": "stream",
          "text": [
            "[[1.         0.57328503]\n",
            " [0.57328503 1.        ]]\n",
            "\n",
            "B is 100 minus twice that of A plus some random noise\n"
          ],
          "name": "stdout"
        },
        {
          "output_type": "display_data",
          "data": {
            "image/png": "[encoded data removed]",
            "text/plain": [
              "<Figure size 432x288 with 1 Axes>"
            ]
          },
          "metadata": {
            "tags": [],
            "needs_background": "light"
          }
        },
        {
          "output_type": "stream",
          "text": [
            "\n",
            "[[ 1.         -0.93737549]\n",
            " [-0.93737549  1.        ]]\n"
          ],
          "name": "stdout"
        }
      ]
    },
    {
      "cell_type": "markdown",
      "metadata": {
        "id": "m4BqfwWzX0rl"
      },
      "source": [
        "## Transpose"
      ]
    },
    {
      "cell_type": "code",
      "metadata": {
        "colab": {
          "base_uri": "https://localhost:8080/"
        },
        "id": "tL3XdLLmX4UF",
        "outputId": "0865444f-ae82-4257-bf82-f5ab9036a35e"
      },
      "source": [
        "A = ri(1,10,9).reshape(3,3)\r\n",
        "print(\"\\n3x3 Matrix of random single-digit numbers\\n\",'-'*50,'\\n',A)\r\n",
        "print(\"\\nMatrix transpose\\n\",\"-\"*50,\"\\n\",np.transpose(A))\r\n",
        "\r\n",
        "B = ri(1,10,6).reshape(3,2)\r\n",
        "print(\"\\n3x2 Matrix of random single-digit numbers\\n\",\"-\"*50,\"\\n\",B)\r\n",
        "print(\"\\n2x3 Matrix transpose\\n\",\"-\"*50,\"\\n\",np.transpose(B))\r\n",
        "print(\"\\nMatrix multiplication of B and B-transpose\\n\",\"-\"*50,\"\\n\",np.dot(B, np.transpose(B)))"
      ],
      "execution_count": null,
      "outputs": [
        {
          "output_type": "stream",
          "text": [
            "\n",
            "3x3 Matrix of random single-digit numbers\n",
            " -------------------------------------------------- \n",
            " [[3 1 8]\n",
            " [1 6 2]\n",
            " [9 5 3]]\n",
            "\n",
            "Matrix transpose\n",
            " -------------------------------------------------- \n",
            " [[3 1 9]\n",
            " [1 6 5]\n",
            " [8 2 3]]\n",
            "\n",
            "3x2 Matrix of random single-digit numbers\n",
            " -------------------------------------------------- \n",
            " [[6 7]\n",
            " [6 3]\n",
            " [6 9]]\n",
            "\n",
            "2x3 Matrix transpose\n",
            " -------------------------------------------------- \n",
            " [[6 6 6]\n",
            " [7 3 9]]\n",
            "\n",
            "Matrix multiplication of B and B-transpose\n",
            " -------------------------------------------------- \n",
            " [[ 85  57  99]\n",
            " [ 57  45  63]\n",
            " [ 99  63 117]]\n"
          ],
          "name": "stdout"
        }
      ]
    },
    {
      "cell_type": "markdown",
      "metadata": {
        "id": "Me-r0TJoY3lj"
      },
      "source": [
        "## Trace"
      ]
    },
    {
      "cell_type": "code",
      "metadata": {
        "colab": {
          "base_uri": "https://localhost:8080/"
        },
        "id": "_96owvIVY2Qk",
        "outputId": "bf2c3ea7-2bc4-4933-ea49-24839d7eb8f5"
      },
      "source": [
        "A = ri(1,10,16).reshape(4,4)\r\n",
        "print(\"\\n4x4 Matrix of random single-digit numbers\\n\",\"-\"*50,\"\\n\",A)\r\n",
        "print(\"\\nMatrix trace\\n\",\"-\"*50,\"\\n\",np.trace(A))\r\n",
        "print(\"\\nMatrix trace with ofset +1 (upper triangle)\\n\",\"-\"*50,\"\\n\",np.trace(A,offset=1))\r\n",
        "print(\"\\nMatrix trace with ofset -1 (lower triangle)\\n\",\"-\"*50,\"\\n\",np.trace(A,offset=-1))"
      ],
      "execution_count": null,
      "outputs": [
        {
          "output_type": "stream",
          "text": [
            "\n",
            "4x4 Matrix of random single-digit numbers\n",
            " -------------------------------------------------- \n",
            " [[5 6 5 1]\n",
            " [2 4 7 1]\n",
            " [8 8 5 1]\n",
            " [5 2 1 6]]\n",
            "\n",
            "Matrix trace\n",
            " -------------------------------------------------- \n",
            " 20\n",
            "\n",
            "Matrix trace with ofset +1 (upper triangle)\n",
            " -------------------------------------------------- \n",
            " 14\n",
            "\n",
            "Matrix trace with ofset -1 (lower triangle)\n",
            " -------------------------------------------------- \n",
            " 11\n"
          ],
          "name": "stdout"
        }
      ]
    },
    {
      "cell_type": "markdown",
      "metadata": {
        "id": "OV6stT7JY9jt"
      },
      "source": [
        "## Eigenvalues and eigenvectors"
      ]
    },
    {
      "cell_type": "code",
      "metadata": {
        "colab": {
          "base_uri": "https://localhost:8080/"
        },
        "id": "NBAv8D8YY8BT",
        "outputId": "3de6784f-30de-4c72-d147-41d33b70eab8"
      },
      "source": [
        "A = np.random.randn(9).reshape(3,3)\r\n",
        "print(\"Orignal matrix \\n\",A)\r\n",
        "print(\"-\"*50)\r\n",
        "p,q=np.linalg.eig(A) #Compute the eigenvalues and right eigenvectors of a square array.\r\n",
        "print(\"Eigenvalues: \\n\",p)\r\n",
        "print(\"-\"*50)\r\n",
        "print(\"Eigenvectors: \\n\",q)\r\n"
      ],
      "execution_count": null,
      "outputs": [
        {
          "output_type": "stream",
          "text": [
            "Orignal matrix \n",
            " [[-0.69816087 -0.88498646 -1.16349334]\n",
            " [-1.07769301 -1.21677462  0.53992929]\n",
            " [ 1.77234603 -1.20367534  1.3983187 ]]\n",
            "--------------------------------------------------\n",
            "Eigenvalues: \n",
            " [ 0.72469901+1.5014767j  0.72469901-1.5014767j -1.9660148 +0.j       ]\n",
            "--------------------------------------------------\n",
            "Eigenvectors: \n",
            " [[-0.23419505+0.44971j    -0.23419505-0.44971j     0.56895657+0.j        ]\n",
            " [ 0.09835613-0.32569527j  0.09835613+0.32569527j  0.8223491 +0.j        ]\n",
            " [ 0.79193576+0.j          0.79193576-0.j         -0.00551271+0.j        ]]\n"
          ],
          "name": "stdout"
        }
      ]
    }
  ]
}
